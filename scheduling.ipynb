{
  "nbformat": 4,
  "nbformat_minor": 0,
  "metadata": {
    "colab": {
      "name": "scheduling.ipynb",
      "provenance": [],
      "collapsed_sections": [],
      "include_colab_link": true
    },
    "kernelspec": {
      "name": "python3",
      "display_name": "Python 3"
    }
  },
  "cells": [
    {
      "cell_type": "markdown",
      "metadata": {
        "id": "view-in-github",
        "colab_type": "text"
      },
      "source": [
        "<a href=\"https://colab.research.google.com/github/antec38/colaboratory/blob/main/scheduling.ipynb\" target=\"_parent\"><img src=\"https://colab.research.google.com/assets/colab-badge.svg\" alt=\"Open In Colab\"/></a>"
      ]
    },
    {
      "cell_type": "code",
      "metadata": {
        "id": "IghaBpHvMXza",
        "outputId": "d8164fea-c7b8-49eb-b4b1-b66de6b0f4b6",
        "colab": {
          "base_uri": "https://localhost:8080/"
        }
      },
      "source": [
        "!pip install pulp\n",
        "!pip install ortoolpy\n",
        "!pip install openpyxl"
      ],
      "execution_count": null,
      "outputs": [
        {
          "output_type": "stream",
          "name": "stdout",
          "text": [
            "Requirement already satisfied: pulp in /usr/local/lib/python3.7/dist-packages (2.6.0)\n",
            "Requirement already satisfied: ortoolpy in /usr/local/lib/python3.7/dist-packages (0.2.38)\n",
            "Requirement already satisfied: pandas<2.0.0,>=1.1.4 in /usr/local/lib/python3.7/dist-packages (from ortoolpy) (1.3.5)\n",
            "Requirement already satisfied: more-itertools<9.0.0,>=8.6.0 in /usr/local/lib/python3.7/dist-packages (from ortoolpy) (8.13.0)\n",
            "Requirement already satisfied: pulp<3.0.0,>=2.3.1 in /usr/local/lib/python3.7/dist-packages (from ortoolpy) (2.6.0)\n",
            "Requirement already satisfied: pytz>=2017.3 in /usr/local/lib/python3.7/dist-packages (from pandas<2.0.0,>=1.1.4->ortoolpy) (2022.1)\n",
            "Requirement already satisfied: python-dateutil>=2.7.3 in /usr/local/lib/python3.7/dist-packages (from pandas<2.0.0,>=1.1.4->ortoolpy) (2.8.2)\n",
            "Requirement already satisfied: numpy>=1.17.3 in /usr/local/lib/python3.7/dist-packages (from pandas<2.0.0,>=1.1.4->ortoolpy) (1.21.6)\n",
            "Requirement already satisfied: six>=1.5 in /usr/local/lib/python3.7/dist-packages (from python-dateutil>=2.7.3->pandas<2.0.0,>=1.1.4->ortoolpy) (1.15.0)\n",
            "Requirement already satisfied: openpyxl in /usr/local/lib/python3.7/dist-packages (3.0.9)\n",
            "Requirement already satisfied: et-xmlfile in /usr/local/lib/python3.7/dist-packages (from openpyxl) (1.1.0)\n"
          ]
        }
      ]
    },
    {
      "cell_type": "code",
      "source": [
        "import numpy as np, pandas as pd\n",
        "from pulp import *\n",
        "from ortoolpy import addvars, addbinvars\n",
        "import openpyxl\n",
        "\n",
        "from google.colab import drive\n",
        "drive.mount('/content/drive', force_remount=True)\n",
        "\n",
        "#従業員氏名、技能スコア、当月稼働日数取得\n",
        "list_employee = pd.read_excel('drive/My Drive/Colab Notebooks/ShiftParams.xlsx', sheet_name='技能スコア', header=0, index_col=None)\n",
        "print(list_employee)\n",
        "\n",
        "#従業員数\n",
        "num_employee = len(list_employee)\n",
        "#print(num_employee)\n",
        "\n",
        "#稼働日数合計\n",
        "sum_workingdays = sum(list_employee['稼働日数'])\n",
        "#print(sum_workingdays)\n",
        "\n",
        "#平均技能スコア\n",
        "avg_skill = list_employee['技能スコア'].mean()\n",
        "#print(avg_skill)\n"
      ],
      "metadata": {
        "colab": {
          "base_uri": "https://localhost:8080/"
        },
        "id": "Q_gZnAfFyw2z",
        "outputId": "ec30c7d1-91c3-4fe5-8aae-d412bb775c77"
      },
      "execution_count": null,
      "outputs": [
        {
          "output_type": "stream",
          "name": "stdout",
          "text": [
            "Mounted at /content/drive\n",
            "    名前  技能スコア  稼働日数\n",
            "0  AAA    1.5  20.0\n",
            "1  BBB    2.5  18.0\n",
            "2  CCC    2.5  19.0\n",
            "3  DDD    1.5  19.0\n",
            "4  EEE    2.0  20.0\n",
            "5  FFF    0.5  20.0\n"
          ]
        }
      ]
    },
    {
      "cell_type": "code",
      "source": [
        "#希望休日、必須出勤日\n",
        "preferred = pd.read_excel('drive/My Drive/Colab Notebooks/ShiftParams.xlsx', sheet_name='work', header=None, index_col=None)\n",
        "#print(preferred)\n",
        "\n",
        "#カラム名取得\n",
        "tmp_colname = preferred.loc[2]\n",
        "#print(preferred.loc[2])\n",
        "\n",
        "#行削除\n",
        "preferred.drop(index=[0,1,2], inplace=True)\n",
        "#print(preferred)\n",
        "\n",
        "#行番号振り直し\n",
        "preferred.reset_index(drop=True, inplace=True)\n",
        "\n",
        "#カラム名設定\n",
        "preferred.rename(columns = tmp_colname, inplace=True)\n",
        "print(preferred)\n",
        "\n",
        "#必要人数 Nanを0に変換\n",
        "preferred.必要人数 = preferred.必要人数.replace(np.nan, 0)\n",
        "\n",
        "#必要人数のみ抽出\n",
        "req_numpeople = pd.DataFrame(preferred.必要人数)\n",
        "#print(req_numpeople)\n",
        "\n",
        "#従業員希望列のみ抽出\n",
        "emp_preferred = preferred.iloc[:,3:]\n",
        "#print(emp_preferred)\n"
      ],
      "metadata": {
        "colab": {
          "base_uri": "https://localhost:8080/"
        },
        "id": "btRxe32K3SJD",
        "outputId": "6285f3d2-d63f-46b1-8654-5b884f77e8c8"
      },
      "execution_count": null,
      "outputs": [
        {
          "output_type": "stream",
          "name": "stdout",
          "text": [
            "                     日付 曜日 必要人数  AAA  BBB  CCC  DDD  EEE  FFF\n",
            "0   2022-03-29 00:00:00  火  NaN  1.0  0.0  0.0  1.0  1.0  1.0\n",
            "1   2022-03-30 00:00:00  水  NaN  0.0  1.0  1.0  1.0  0.0  1.0\n",
            "2   2022-03-31 00:00:00  木  NaN  1.0  1.0  1.0  0.0  1.0  1.0\n",
            "3   2022-04-01 00:00:00  金  NaN  0.0  NaN  NaN  0.0  NaN  NaN\n",
            "4   2022-04-02 00:00:00  土  4.0  NaN  NaN  NaN  NaN  NaN  NaN\n",
            "5   2022-04-03 00:00:00  日  4.0  NaN  NaN  0.0  NaN  NaN  NaN\n",
            "6   2022-04-04 00:00:00  月  NaN  NaN  NaN  NaN  NaN  NaN  NaN\n",
            "7   2022-04-05 00:00:00  火  NaN  NaN  NaN  NaN  NaN  NaN  NaN\n",
            "8   2022-04-06 00:00:00  水  NaN  NaN  NaN  NaN  NaN  NaN  NaN\n",
            "9   2022-04-07 00:00:00  木  NaN  0.0  NaN  NaN  NaN  0.0  NaN\n",
            "10  2022-04-08 00:00:00  金  NaN  NaN  NaN  0.0  NaN  0.0  NaN\n",
            "11  2022-04-09 00:00:00  土  4.0  NaN  NaN  NaN  NaN  NaN  NaN\n",
            "12  2022-04-10 00:00:00  日  4.0  NaN  0.0  NaN  NaN  NaN  NaN\n",
            "13  2022-04-11 00:00:00  月  NaN  NaN  0.0  NaN  NaN  NaN  NaN\n",
            "14  2022-04-12 00:00:00  火  NaN  NaN  0.0  NaN  NaN  NaN  NaN\n",
            "15  2022-04-13 00:00:00  水  NaN  NaN  0.0  NaN  NaN  NaN  NaN\n",
            "16  2022-04-14 00:00:00  木  NaN  NaN  0.0  NaN  NaN  NaN  NaN\n",
            "17  2022-04-15 00:00:00  金  NaN  NaN  NaN  NaN  NaN  NaN  NaN\n",
            "18  2022-04-16 00:00:00  土  4.0  NaN  NaN  NaN  NaN  NaN  NaN\n",
            "19  2022-04-17 00:00:00  日  4.0  NaN  NaN  NaN  NaN  NaN  NaN\n",
            "20  2022-04-18 00:00:00  月  NaN  NaN  NaN  NaN  NaN  NaN  NaN\n",
            "21  2022-04-19 00:00:00  火  NaN  NaN  NaN  NaN  NaN  NaN  NaN\n",
            "22  2022-04-20 00:00:00  水  NaN  NaN  NaN  NaN  NaN  NaN  NaN\n",
            "23  2022-04-21 00:00:00  木  NaN  NaN  NaN  NaN  NaN  NaN  NaN\n",
            "24  2022-04-22 00:00:00  金  NaN  NaN  NaN  NaN  NaN  NaN  NaN\n",
            "25  2022-04-23 00:00:00  土  4.0  NaN  NaN  NaN  NaN  NaN  NaN\n",
            "26  2022-04-24 00:00:00  日  4.0  NaN  NaN  NaN  0.0  NaN  NaN\n",
            "27  2022-04-25 00:00:00  月  NaN  NaN  NaN  NaN  0.0  NaN  NaN\n",
            "28  2022-04-26 00:00:00  火  NaN  NaN  NaN  NaN  NaN  NaN  NaN\n",
            "29  2022-04-27 00:00:00  水  NaN  NaN  NaN  NaN  NaN  NaN  NaN\n",
            "30  2022-04-28 00:00:00  木  NaN  NaN  NaN  NaN  NaN  NaN  NaN\n",
            "31  2022-04-29 00:00:00  金  4.0  NaN  NaN  NaN  NaN  NaN  0.0\n",
            "32  2022-04-30 00:00:00  土  4.0  NaN  NaN  NaN  NaN  NaN  NaN\n"
          ]
        }
      ]
    },
    {
      "cell_type": "code",
      "source": [
        "#print(len(emp_preferred))\n",
        "#print(list(range(len(emp_preferred))))\n",
        "\n",
        "list_dateno = list(range(len(emp_preferred)))\n",
        "list_empno = list(range(num_employee))\n",
        "\n",
        "model = LpProblem() #数理モデル\n",
        "shift = pd.DataFrame(addbinvars(len(list_dateno), len(list_empno))) #0-1変数リスト\n",
        "\n",
        "# 必要人数一致制約、人数案分\n",
        "cost_empdif = 500\n",
        "con_empdif = addvars(len(emp_preferred)) #非負変数リスト\n",
        "for _,r in req_numpeople[3:].iterrows(): #0-2行目は前月のため非処理\n",
        "    #print(_)\n",
        "    #print(r.必要人数)\n",
        "    if(r.必要人数 == 0):\n",
        "        model += lpSum(shift.loc[_]) + con_empdif[_] >= (num_employee / 2)\n",
        "        model += lpSum(shift.loc[_]) - con_empdif[_] <= (num_employee - 1)\n",
        "    else:\n",
        "        model += lpSum(shift.loc[_]) == r.必要人数\n",
        "\n",
        "# 出勤日数の一致制約\n",
        "for i in list_empno:\n",
        "    model += lpSum(shift.iloc[3:, i]) == list_employee.at[i, '稼働日数'] #データフレーム従業員行、稼働日数列\n",
        "\n",
        "# 休日希望、必須出勤の一致制約\n",
        "for i in list_empno:\n",
        "    for j in list_dateno:\n",
        "        if emp_preferred.iloc[j,i] == 1:\n",
        "            model += shift.iloc[j,i] == 1 #必須出勤\n",
        "        elif emp_preferred.iloc[j,i] == 0:\n",
        "            model += shift.iloc[j,i] == 0 #希望休日\n",
        "\n",
        "# 管理者不足に対してペナルティーを求める。(少なくともAAA、BBBの何れかが出勤することが望ましい)\n",
        "cost_manage = 100\n",
        "con_manage = addbinvars(len(emp_preferred))\n",
        "for _,i in shift[3:].iterrows():\n",
        "    model += lpSum(i[0:2]) + con_manage[_] >= 1\n",
        "\n",
        "# 技能不足に対してペナルティーを求める。\n",
        "cost_skill = 50\n",
        "con_skill = addbinvars(len(emp_preferred)) #0-1変数リスト\n",
        "for _,r in shift[3:].iterrows():\n",
        "    model += lpSum(lpDot(r,list_employee['技能スコア'])) + con_skill[_] >= lpSum(r) * avg_skill\n",
        "\n",
        "# 4連勤に対してペナルティーを求める。\n",
        "cost_work3  = 1000\n",
        "con_work3 = np.array(addbinvars(len(emp_preferred)-3, num_employee)) #0-1変数リスト\n",
        "for i in list_empno:\n",
        "    for n,p in enumerate((shift.values[:-3,i] + shift.values[1:-2,i] + shift.values[2:-1,i] + shift.values[3:,i]).flat):\n",
        "        model += p - con_work3[n][i] <= 3\n",
        "\n",
        "# 3連休に対してペナルティーを求める。\n",
        "cost_rest2 = 1000\n",
        "con_rest2 = np.array(addbinvars(len(emp_preferred)-2, num_employee)) #0-1変数リスト\n",
        "for i in list_empno:\n",
        "    for n,p in enumerate((shift.values[:-2,i] + shift.values[1:-1,i] + shift.values[2:,i]).flat):\n",
        "        model += p + con_rest2[n][i] >= 1\n",
        "\n",
        "# 目的関数\n",
        "model += (\n",
        "    + cost_work3 * lpSum(con_work3)\n",
        "    + cost_rest2 * lpSum(con_rest2)\n",
        "    + cost_manage * lpSum(con_manage)\n",
        "    + cost_skill * lpSum(con_skill)\n",
        "    + cost_empdif * lpSum(con_empdif)\n",
        ")\n"
      ],
      "metadata": {
        "id": "QbWqgIZbBpFB"
      },
      "execution_count": null,
      "outputs": []
    },
    {
      "cell_type": "code",
      "source": [
        "%time model.solve()\n",
        "result = np.vectorize(value)(shift).astype(int) #0に近い程、条件を満たした最適な組み合わせ。\n",
        "#print(result)\n",
        "print('目的関数', value(model.objective))"
      ],
      "metadata": {
        "colab": {
          "base_uri": "https://localhost:8080/"
        },
        "id": "mrkMKFFLU-rh",
        "outputId": "6f55677b-3036-4443-fe94-37e06024c476"
      },
      "execution_count": null,
      "outputs": [
        {
          "output_type": "stream",
          "name": "stdout",
          "text": [
            "CPU times: user 25.4 ms, sys: 7.05 ms, total: 32.5 ms\n",
            "Wall time: 731 ms\n",
            "目的関数 4250.0\n"
          ]
        }
      ]
    },
    {
      "cell_type": "code",
      "source": [
        "# 整合チェック、結果出力データ生成\n",
        "\n",
        "# 希望休日、希望出勤チェック\n",
        "chk_diff0 = np.zeros((len(emp_preferred), num_employee))\n",
        "chk_diff1 = np.zeros((len(emp_preferred), num_employee))\n",
        "DF_chk_diff0 = pd.DataFrame(data=chk_diff0, index=None, columns=None)\n",
        "DF_chk_diff1 = pd.DataFrame(data=chk_diff1, index=None, columns=None)\n",
        "DF_chk_diff0.replace(0, np.nan, inplace=True)\n",
        "DF_chk_diff1.replace(0, np.nan, inplace=True)\n",
        "\n",
        "for i in list_dateno:\n",
        "    for j in list_empno:\n",
        "        # 不正値の場合\n",
        "        if not (value(shift.iloc[i,j]) == 1.0) and not (value(shift.iloc[i,j]) == 0.0):\n",
        "            print(value(shift.iloc[i,j]))\n",
        "        # 出勤割当かつ希望休日の場合\n",
        "        elif (result[i][j] == 1) and (emp_preferred.iloc[i,j] == 0):\n",
        "            print(str(i) +\"日目\")\n",
        "            print(preferred.columns[j])\n",
        "            DF_chk_diff0.iloc[i,j] = 1\n",
        "        # 休暇割当かつ希望出勤の場合\n",
        "        elif (result[i][j] == 0) and (emp_preferred.iloc[i,j] == 1):\n",
        "            print(str(i) +\"日目\")\n",
        "            print(preferred.columns[j])\n",
        "            DF_chk_diff1.iloc[i,j] = 1\n",
        "\n",
        "#print(DF_chk_diff0)\n",
        "#print(DF_chk_diff1)\n",
        "\n",
        "# 4連勤チェック、3連休チェック\n",
        "chk_work3 = np.zeros((len(emp_preferred), num_employee))\n",
        "chk_rest2 = np.zeros((len(emp_preferred), num_employee))\n",
        "DF_chk_work3 = pd.DataFrame(data=chk_work3, index=None, columns=None)\n",
        "DF_chk_rest2 = pd.DataFrame(data=chk_rest2, index=None, columns=None)\n",
        "DF_chk_work3.replace(0, np.nan, inplace=True)\n",
        "DF_chk_rest2.replace(0, np.nan, inplace=True)\n",
        "\n",
        "for i in list_dateno[3:]:\n",
        "    for j in list_empno:\n",
        "        if((result[i-3][j] + result[i-2][j] + result[i-1][j] + result[i][j]) > 3):\n",
        "            DF_chk_work3.iloc[i,j] = result[i-3][j] + result[i-2][j] + result[i-1][j] + result[i][j]\n",
        "\n",
        "for i in list_dateno[2:]:\n",
        "    for j in list_empno:\n",
        "        if((result[i-2][j] + result[i-1][j] + result[i][j]) < 1):\n",
        "            DF_chk_rest2.iloc[i,j] = (3 - (result[i-2][j] + result[i-1][j] + result[i][j]))\n",
        "\n",
        "#print(DF_chk_work3)\n",
        "#print(DF_chk_rest2)\n",
        "\n",
        "# 管理者不在チェック\n",
        "chk_manage = np.zeros((len(emp_preferred), num_employee))\n",
        "DF_chk_manage = pd.DataFrame(data=chk_manage, index=None, columns=None)\n",
        "DF_chk_manage.replace(0, np.nan, inplace=True)\n",
        "\n",
        "for i in list_dateno:\n",
        "    if (result[i][0] == 0) and (result[i][1] == 0):\n",
        "        print(\"管理者不在\")\n",
        "        print(str(i) +\"日目\")\n",
        "        DF_chk_manage.iloc[i,0] = 1\n",
        "        DF_chk_manage.iloc[i,1] = 1\n",
        "\n",
        "#print(DF_chk_manage)"
      ],
      "metadata": {
        "colab": {
          "base_uri": "https://localhost:8080/"
        },
        "id": "SEUYE6HXXTfi",
        "outputId": "856e99ea-0242-4c78-a599-f2333762ce2e"
      },
      "execution_count": null,
      "outputs": [
        {
          "output_type": "stream",
          "name": "stdout",
          "text": [
            "管理者不在\n",
            "15日目\n"
          ]
        }
      ]
    },
    {
      "cell_type": "code",
      "metadata": {
        "id": "Ovdq3uKsiqh1"
      },
      "source": [
        "# 結果出力\n",
        "path = 'drive/My Drive/Colab Notebooks/ShiftParams.xlsx'\n",
        "\n",
        "with pd.ExcelWriter(path, mode='a') as writer:\n",
        "    wb = openpyxl.load_workbook(path)\n",
        "    if '結果' in wb.sheetnames:\n",
        "        wb.remove(wb['結果'])\n",
        "\n",
        "    if '休日不一致' in wb.sheetnames:\n",
        "        wb.remove(wb['休日不一致'])\n",
        "\n",
        "    if '出勤不一致' in wb.sheetnames:\n",
        "        wb.remove(wb['出勤不一致'])\n",
        "\n",
        "    if '連勤不一致' in wb.sheetnames:\n",
        "        wb.remove(wb['連勤不一致'])\n",
        "\n",
        "    if '連休不一致' in wb.sheetnames:\n",
        "        wb.remove(wb['連休不一致'])\n",
        "\n",
        "    if '管理者不在' in wb.sheetnames:\n",
        "        wb.remove(wb['管理者不在'])\n",
        "\n",
        "    writer.book = wb\n",
        "    df0 = pd.DataFrame(result)\n",
        "    df0.columns = emp_preferred.columns\n",
        "    df0.insert(0, '曜日', preferred['曜日'])\n",
        "    df0['当日人数'] = 0\n",
        "    df0['必要人数'] = req_numpeople\n",
        "    df0['必要人数差'] = 0\n",
        "    df0['目的関数'] = np.nan\n",
        "    df0.at[3, '目的関数'] = value(model.objective)\n",
        "\n",
        "    for index, row in df0.iterrows():\n",
        "        #print(index)\n",
        "        #print(row)\n",
        "        df0.at[index,'当日人数'] = sum(row[1:-3])\n",
        "        if(row.必要人数 != 0.0):\n",
        "            df0.at[index,'必要人数差'] = df0.at[index,'必要人数'] - df0.at[index,'当日人数']\n",
        "        else:\n",
        "            df0.at[index,'必要人数差'] = 0\n",
        "\n",
        "    df0.index = preferred['日付']\n",
        "\n",
        "    df0[3:].to_excel(writer, sheet_name='結果')\n",
        "\n",
        "    df1 = pd.DataFrame(DF_chk_diff0)\n",
        "    df1.columns = emp_preferred.columns\n",
        "    df1.insert(0, '曜日', preferred['曜日'])\n",
        "\n",
        "    df1.index = preferred['日付']\n",
        "    #print(df1)\n",
        "\n",
        "    df1[3:].to_excel(writer, sheet_name='休日不一致')\n",
        "\n",
        "    df2 = pd.DataFrame(DF_chk_diff1)\n",
        "    df2.columns = emp_preferred.columns\n",
        "    df2.insert(0, '曜日', preferred['曜日'])\n",
        "\n",
        "    df2.index = preferred['日付']\n",
        "    #print(df2)\n",
        "\n",
        "    df2[3:].to_excel(writer, sheet_name='出勤不一致')\n",
        "\n",
        "    df3 = pd.DataFrame(DF_chk_work3)\n",
        "    df3.columns = emp_preferred.columns\n",
        "    df3.insert(0, '曜日', preferred['曜日'])\n",
        "\n",
        "    df3.index = preferred['日付']\n",
        "    #print(df3)\n",
        "\n",
        "    df3[3:].to_excel(writer, sheet_name='連勤不一致')\n",
        "\n",
        "    df4 = pd.DataFrame(DF_chk_rest2)\n",
        "    df4.columns = emp_preferred.columns\n",
        "    df4.insert(0, '曜日', preferred['曜日'])\n",
        "\n",
        "    df4.index = preferred['日付']\n",
        "    #print(df4)\n",
        "\n",
        "    df4[3:].to_excel(writer, sheet_name='連休不一致')\n",
        "\n",
        "    df5 = pd.DataFrame(DF_chk_manage)\n",
        "    df5.columns = emp_preferred.columns\n",
        "    df5.insert(0, '曜日', preferred['曜日'])\n",
        "\n",
        "    df5.index = preferred['日付']\n",
        "    #print(df5)\n",
        "\n",
        "    df5[3:].to_excel(writer, sheet_name='管理者不在')"
      ],
      "execution_count": null,
      "outputs": []
    }
  ]
}